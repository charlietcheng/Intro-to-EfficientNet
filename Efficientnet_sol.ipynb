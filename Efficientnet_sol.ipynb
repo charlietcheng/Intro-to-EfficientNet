{
  "cells": [
    {
      "cell_type": "markdown",
      "metadata": {
        "id": "M24QrQork-FZ"
      },
      "source": [
        "# CS182 Project: Introduction to EfficientNet\n"
      ]
    },
    {
      "cell_type": "markdown",
      "metadata": {
        "id": "4Ot2UEHsmDjx"
      },
      "source": [
        "### Part1: introduction\n",
        "EfficientNet is a family of convolutional neural networks that were designed to provide state-of-the-art accuracy on image classification tasks while maintaining a high level of efficiency. Developed by a team of researchers at Google, EfficientNet models use a novel compound scaling method to balance the number of parameters in the network with its depth and width, resulting in a highly optimized architecture that achieves superior performance with fewer computational resources. EfficientNet models have achieved top scores in various computer vision benchmarks, including the ImageNet dataset, and have been widely adopted for a range of applications, including object detection, segmentation, and transfer learning.\n",
        "\n",
        "In this HW, we're going to implement EfficientNet from scratch, and understand how EfficientNets are \"efficient\" in the sense of cost of compuation and number of parameters"
      ]
    },
    {
      "cell_type": "markdown",
      "metadata": {
        "id": "7yviRW1EmrXa"
      },
      "source": [
        "Imports and preparations:"
      ]
    },
    {
      "cell_type": "code",
      "execution_count": 2,
      "metadata": {
        "colab": {
          "base_uri": "https://localhost:8080/"
        },
        "id": "SeiRRAQkAulz",
        "outputId": "7c70bea3-93ec-49f5-f18f-a16583d20bf8"
      },
      "outputs": [
        {
          "output_type": "stream",
          "name": "stdout",
          "text": [
            "Drive already mounted at /content/gdrive; to attempt to forcibly remount, call drive.mount(\"/content/gdrive\", force_remount=True).\n"
          ]
        }
      ],
      "source": [
        "import os\n",
        "from google.colab import drive\n",
        "drive.mount('/content/gdrive')"
      ]
    },
    {
      "cell_type": "code",
      "execution_count": 3,
      "metadata": {
        "id": "nLO2CWrcAxtL"
      },
      "outputs": [],
      "source": [
        "DRIVE_PATH = '/content/gdrive/My\\ Drive/cs182project_eq_efficientnet'\n",
        "DRIVE_PYTHON_PATH = DRIVE_PATH.replace('\\\\', '')\n",
        "if not os.path.exists(DRIVE_PYTHON_PATH):\n",
        "  %mkdir $DRIVE_PATH\n",
        "\n",
        "## the space in `My Drive` causes some issues,\n",
        "## make a symlink to avoid this\n",
        "SYM_PATH = '/content/cs182project_eq_efficientnet'\n",
        "if not os.path.exists(SYM_PATH):\n",
        "  !ln -s $DRIVE_PATH $SYM_PATH"
      ]
    },
    {
      "cell_type": "code",
      "execution_count": 4,
      "metadata": {
        "id": "50fXbzQ2AyX6"
      },
      "outputs": [],
      "source": [
        "import matplotlib.pyplot as plt\n",
        "import numpy as np\n",
        "from math import ceil\n",
        "\n",
        "# Torch stuff\n",
        "import torch\n",
        "import torch.optim as optim\n",
        "from torch.optim import lr_scheduler\n",
        "import torch.nn as nn\n",
        "from torch.utils.data import random_split\n",
        "import torch.nn.functional as F\n",
        "import torch.utils as utils\n",
        "from torchvision import datasets, transforms, models\n",
        "from torchvision.utils import make_grid\n",
        "from torch.utils.data import DataLoader, TensorDataset, Dataset\n",
        "import torchvision\n",
        "\n",
        "import os, random\n",
        "import pandas as pd\n",
        "import numpy as np\n",
        "from matplotlib import pyplot as plt\n",
        "\n",
        "#training part\n",
        "import torch\n",
        "from torch import nn\n",
        "from torch.utils.data import DataLoader\n",
        "from pathlib import Path\n",
        "from tqdm import tqdm\n",
        "import logging\n",
        "import argparse\n",
        "import random\n",
        "import copy\n",
        "\n",
        "import json"
      ]
    },
    {
      "cell_type": "code",
      "execution_count": 5,
      "metadata": {
        "colab": {
          "base_uri": "https://localhost:8080/"
        },
        "id": "9Gl6zWBtA09R",
        "outputId": "7055745c-4af3-48ff-a889-312c1196e3c0"
      },
      "outputs": [
        {
          "output_type": "stream",
          "name": "stdout",
          "text": [
            "fatal: destination path 'tinyimagenet' already exists and is not an empty directory.\n",
            "data_dealing.ipynb  organized_val  README.md  test  train  wnids.txt  words.txt\n"
          ]
        }
      ],
      "source": [
        "! git clone https://github.com/ethanqiu04/tinyimagenet\n",
        "#Originally Taken from Stanford CS231n, Li Fei Fei et al. will cite later\n",
        "#Basically miniimagenet, but smaller, you might even call it, tinyimagenet\n",
        "#I did some preprocessing to remove some painpoints via the data_dealing jupyternotebook in the github\n",
        "! ls 'tinyimagenet/'"
      ]
    },
    {
      "cell_type": "markdown",
      "metadata": {
        "id": "fhibDcKWm88v"
      },
      "source": [
        "About the data we're using: Tiny-ImageNet is a dataset for computer vision tasks that was created by Stanford University as a smaller version of the popular ImageNet dataset. It contains 200 object classes, each with 500 training images, 50 validation images, and 50 test images, making a total of 100,000 images in the dataset. The images in Tiny-ImageNet are resized to 64x64 pixels and are similar to the ones in the original ImageNet dataset, but with a much smaller size, making it an ideal dataset for testing and evaluating computer vision models on limited computational resources.\n",
        "\n",
        "In this part we're going to implement a dataloader. The purpose of this is to build a convenient way to feed data from a dataset to a model during training or inference. With the DataLoader, users can easily handle large datasets and apply different data augmentation techniques to the input data. The PyTorch DataLoader is a flexible and efficient tool that has become a standard part of many deep learning workflows."
      ]
    },
    {
      "cell_type": "code",
      "execution_count": 6,
      "metadata": {
        "id": "FEiiw_KIBFbF"
      },
      "outputs": [],
      "source": [
        "train_transform = transforms.Compose(\n",
        "    [\n",
        "        transforms.RandomHorizontalFlip(),\n",
        "        transforms.ToTensor(),\n",
        "        transforms.Normalize((0.5, 0.5, 0.5), (0.5, 0.5, 0.5))\n",
        "        \n",
        "    ]\n",
        ")\n",
        "\n",
        "test_transform = transforms.Compose(\n",
        "    [\n",
        "        transforms.ToTensor(), \n",
        "        transforms.Normalize((0.5, 0.5, 0.5), (0.5, 0.5, 0.5))\n",
        "    ]\n",
        ")\n",
        "\n"
      ]
    },
    {
      "cell_type": "code",
      "source": [
        "trainset = torchvision.datasets.CIFAR10(root='./data', train=True,\n",
        "                                        download=True, transform=train_transform)\n",
        "\n",
        "testset = torchvision.datasets.CIFAR10(root='./data', train=False,\n",
        "                                       download=True, transform=test_transform)\n"
      ],
      "metadata": {
        "colab": {
          "base_uri": "https://localhost:8080/"
        },
        "id": "64mqlIB-Wa0J",
        "outputId": "03fcd1a4-cf77-4ff3-8e90-3e353bcb5f72"
      },
      "execution_count": 7,
      "outputs": [
        {
          "output_type": "stream",
          "name": "stdout",
          "text": [
            "Files already downloaded and verified\n",
            "Files already downloaded and verified\n"
          ]
        }
      ]
    },
    {
      "cell_type": "code",
      "source": [
        "trainset.data.shape"
      ],
      "metadata": {
        "colab": {
          "base_uri": "https://localhost:8080/"
        },
        "id": "Wx7pkoVSORJ5",
        "outputId": "128da79b-606c-4e56-c23f-24561e845324"
      },
      "execution_count": 8,
      "outputs": [
        {
          "output_type": "execute_result",
          "data": {
            "text/plain": [
              "(50000, 32, 32, 3)"
            ]
          },
          "metadata": {},
          "execution_count": 8
        }
      ]
    },
    {
      "cell_type": "code",
      "source": [
        "train_size, val_size = 40000, 10000\n",
        "train_ds, val_ds = random_split(trainset, [train_size, val_size])\n",
        "len(train_ds), len(val_ds)"
      ],
      "metadata": {
        "colab": {
          "base_uri": "https://localhost:8080/"
        },
        "id": "DHv1wFh8OBb-",
        "outputId": "eb12a6dc-2be4-4a30-e5d2-1fbde0a8441e"
      },
      "execution_count": 9,
      "outputs": [
        {
          "output_type": "execute_result",
          "data": {
            "text/plain": [
              "(40000, 10000)"
            ]
          },
          "metadata": {},
          "execution_count": 9
        }
      ]
    },
    {
      "cell_type": "markdown",
      "metadata": {
        "id": "Z4kM7X8q-AF7"
      },
      "source": [
        "Question 1a): setup train_loader, train_dataset, val_loader, val_dataset, test_loader, test_dataset in the following block. You can use the code in the previous block as a reference.\n",
        "Hint: check out function: produce_dataloader_dataset"
      ]
    },
    {
      "cell_type": "code",
      "execution_count": 10,
      "metadata": {
        "id": "467s3tpEBJtv"
      },
      "outputs": [],
      "source": [
        "#######################\n",
        "# TODO: your code here#\n",
        "#######################\n",
        "trainloader = DataLoader(train_ds, batch_size=256,\n",
        "                          shuffle=True, num_workers=2)\n",
        "valloader = DataLoader(val_ds, batch_size=256, \n",
        "                        shuffle=True, num_workers=2)\n",
        "testloader = DataLoader(testset, batch_size=256,\n",
        "                          shuffle=False, num_workers=2)\n",
        "\n",
        "#######################\n",
        "#END OF YOUR CODE    #\n",
        "#######################"
      ]
    },
    {
      "cell_type": "code",
      "execution_count": 11,
      "metadata": {
        "id": "eU_WiJzOBKqE"
      },
      "outputs": [],
      "source": [
        "#helper functions for displaying images\n",
        "def imshow(img):\n",
        "    img = img / 2 + 0.5     # unnormalize\n",
        "    npimg = img.numpy()\n",
        "    plt.imshow(np.transpose(npimg, (1, 2, 0)))\n",
        "    plt.axis(\"off\")\n",
        "    \n",
        "\n",
        "def dump_batch(dataloader):\n",
        "    data_iterator = iter(dataloader)\n",
        "    images, labels = next(data_iterator)\n",
        "    imshow(torchvision.utils.make_grid(images[:5])) \n"
      ]
    },
    {
      "cell_type": "code",
      "execution_count": 12,
      "metadata": {
        "colab": {
          "base_uri": "https://localhost:8080/",
          "height": 140
        },
        "id": "yGei7oYGDlwl",
        "outputId": "1e9d8dbb-1c34-459e-bd21-c11ab738bbfe"
      },
      "outputs": [
        {
          "output_type": "display_data",
          "data": {
            "text/plain": [
              "<Figure size 640x480 with 1 Axes>"
            ],
            "image/png": "[encoded data removed]"
          },
          "metadata": {}
        }
      ],
      "source": [
        "dump_batch(trainloader)"
      ]
    },
    {
      "cell_type": "code",
      "source": [
        "classes = trainset.classes\n",
        "classes"
      ],
      "metadata": {
        "colab": {
          "base_uri": "https://localhost:8080/"
        },
        "id": "gAG0AT-qPmjA",
        "outputId": "02e98dd0-3f63-4383-c398-e04ed4a4dbf5"
      },
      "execution_count": 13,
      "outputs": [
        {
          "output_type": "execute_result",
          "data": {
            "text/plain": [
              "['airplane',\n",
              " 'automobile',\n",
              " 'bird',\n",
              " 'cat',\n",
              " 'deer',\n",
              " 'dog',\n",
              " 'frog',\n",
              " 'horse',\n",
              " 'ship',\n",
              " 'truck']"
            ]
          },
          "metadata": {},
          "execution_count": 13
        }
      ]
    },
    {
      "cell_type": "markdown",
      "metadata": {
        "id": "-aUNsVP1-AF8"
      },
      "source": [
        "Question: What's the shape of data in train_loader for a sigle batch? (in terms of [N, C, H, W])"
      ]
    },
    {
      "cell_type": "markdown",
      "metadata": {
        "id": "aaaZI4-L-AF8"
      },
      "source": [
        "Answer: 256, 3, 64, 64"
      ]
    },
    {
      "cell_type": "markdown",
      "metadata": {
        "id": "3dEH-wldsN_0"
      },
      "source": [
        "### Part 2: Building the model\n"
      ]
    },
    {
      "cell_type": "markdown",
      "metadata": {
        "id": "a12qpdF5sq-W"
      },
      "source": [
        "The \"highlight\" of EfficientNet is its use of compound scaling methods. Compound scaling in essence is to use a coefficient to uniformaly scale the 3 Dimensions (depth, width and resolution) of the model. The coefficient is denoted as $\\phi$ in the paper. The scaling method is as follows:\n",
        "\n",
        "$$\n",
        " depth: d = \\alpha^\\phi \\\\\n",
        " width: w = \\beta^\\phi \\\\\n",
        " resolution: r = \\gamma^\\phi \\\\\n",
        " \\alpha \\cdot \\beta^2 \\cdot \\gamma ^2 \\approx 2\\\\\n",
        "\\alpha \\geq 1, \\beta \\geq 1, \\gamma \\geq 1\n",
        "\n",
        "$$ "
      ]
    },
    {
      "cell_type": "markdown",
      "metadata": {
        "id": "5-R0zsi4-AF8"
      },
      "source": [
        "The author created a family of EfficientNet models with different $\\phi$ values, and the best model is EfficientNet-B7 with $\\phi = 2.0$. In this HW, we're going to implement EfficientNet-B0 with $\\phi = 1.0$, which is the smallest model in the family."
      ]
    },
    {
      "cell_type": "markdown",
      "metadata": {
        "id": "XOFTJtgf-AF8"
      },
      "source": [
        "Firstly we'going to implement some tricks the author used that makes EfficientNet efficient. The first technique is called Squeeze and Excitation (SE). SE is very similiar to the attention mechanism. It is used to help the model to focus on the most important features. The SE module is implemented as follows: \n",
        "\n",
        "![image](https://github.com/charlietcheng/Intro-to-EfficientNet/blob/main/imgs/SE.jpeg?raw=1)"
      ]
    },
    {
      "cell_type": "code",
      "execution_count": 14,
      "metadata": {
        "id": "VbQ87NkFBfpo"
      },
      "outputs": [],
      "source": [
        "# Implement the Squueze and Excitation block down below\n",
        "# Note that though the image above shows we're using ReLu as the activation function, we're actually using SiLU (swish)\n",
        "# as the author mentioned in the paper that it performed better than ReLU. We also replace the avgpool with adaptiveavgpool\n",
        "# for the same reason.\n",
        "# Hint: use nn.AdaptiveAvgPool2d(1) to replace nn.AvgPool2d(1) and nn.SiLU() to replace nn.ReLU()\n",
        "class SqueezeExcitation(nn.Module):\n",
        "    def __init__(self, n_in, reduced_dim):\n",
        "        super(SqueezeExcitation, self).__init__()\n",
        "        #######################\n",
        "        # TODO: your code here#\n",
        "        #######################\n",
        "        self.se = nn.Sequential(\n",
        "            nn.AdaptiveAvgPool2d(1),\n",
        "            nn.Conv2d(n_in, reduced_dim, kernel_size=1),\n",
        "            nn.SiLU(),\n",
        "            nn.Conv2d(reduced_dim, n_in, kernel_size=1),\n",
        "            nn.Sigmoid()\n",
        "        )\n",
        "        #######################\n",
        "        # End of your code    #\n",
        "        #######################\n",
        "    \n",
        "    def forward(self, x):\n",
        "        #######################\n",
        "        # TODO: your code here#\n",
        "        #######################\n",
        "        y = self.se(x)\n",
        "        #######################\n",
        "        # End of your code    #\n",
        "        #######################\n",
        "        # Hint: consider why what the picture means by scaling and why we're multiplying here\n",
        "        return x * y"
      ]
    },
    {
      "cell_type": "markdown",
      "metadata": {
        "id": "YdUhAsTL-AF8"
      },
      "source": [
        "Next we're going to implement the trick: Stochastic Depth, which makes the entire training process much faster. The gist of it is to randomly drop a subset of layers and bypass them with the identity function during training. And a full network is used during testing/inference. The image below shows the implementation of Stochastic Depth:\n",
        "\n",
        "![image](https://github.com/charlietcheng/Intro-to-EfficientNet/blob/main/imgs/SD.jpeg?raw=1)"
      ]
    },
    {
      "cell_type": "code",
      "execution_count": 15,
      "metadata": {
        "id": "kU5a8MBO-AF8"
      },
      "outputs": [],
      "source": [
        "# Implement the Stochastic Depth block down below\n",
        "# Hint: use torch.rand() to generate a random number\n",
        "\n",
        "class StochasticDepth(nn.Module):\n",
        "    \n",
        "    def __init__(self, survival_prob = 0.8):\n",
        "        super(StochasticDepth, self).__init__()\n",
        "        \n",
        "        self.p =  survival_prob\n",
        "        \n",
        "    def forward(self, x):\n",
        "        #######################\n",
        "        # TODO: your code here#\n",
        "        #######################\n",
        "        if not self.training:\n",
        "            return x\n",
        "        \n",
        "        binary_tensor = torch.rand(x.shape[0], 1, 1, 1, device=x.device) < self.p\n",
        "        return torch.div(x, self.p) * binary_tensor\n",
        "        #######################\n",
        "        # End of your code    #\n",
        "        #######################"
      ]
    },
    {
      "cell_type": "code",
      "execution_count": 16,
      "metadata": {
        "id": "aVmgidXv-AF8"
      },
      "outputs": [],
      "source": [
        "# Here we provide you with the simple Conv-BatchNorm-Activation block for you\n",
        "# Note that we're using SiLU (swish) as the activation function instead of ReLU as the author mentioned in the paper \n",
        "# that it performed better than ReLU\n",
        "\n",
        "class ConvBnAct(nn.Module):\n",
        "    \n",
        "    def __init__(self, n_in, n_out, kernel_size = 3, stride = 1, \n",
        "                 padding = 0, groups = 1, bn = True, act = True,\n",
        "                 bias = False\n",
        "                ):\n",
        "        \n",
        "        super(ConvBnAct, self).__init__()\n",
        "        \n",
        "        self.conv = nn.Conv2d(n_in, n_out, kernel_size = kernel_size,\n",
        "                              stride = stride, padding = padding,\n",
        "                              groups = groups, bias = bias\n",
        "                             )\n",
        "        self.batch_norm = nn.BatchNorm2d(n_out) if bn else nn.Identity()\n",
        "        self.activation = nn.SiLU() if act else nn.Identity()\n",
        "        \n",
        "    def forward(self, x):\n",
        "        \n",
        "        x = self.conv(x)\n",
        "        x = self.batch_norm(x)\n",
        "        x = self.activation(x)\n",
        "        \n",
        "        return x"
      ]
    },
    {
      "cell_type": "markdown",
      "metadata": {
        "id": "Cmt_NFdb-AF8"
      },
      "source": [
        "Finally here come the finally implementation of EfficientNet. Some additional tricks the author used here include Depthwise Separable Convolution, which is a combination of depthwise convolution and pointwise convolution. The depthwise convolution is used to extract features from each channel, and the pointwise convolution is used to combine the features from different channels.\n",
        "\n",
        "The image below shows the implementation of Depthwise Separable Convolution:\n",
        "\n",
        "![image](https://github.com/charlietcheng/Intro-to-EfficientNet/blob/main/imgs/DSC.jpeg?raw=1)"
      ]
    },
    {
      "cell_type": "code",
      "execution_count": 17,
      "metadata": {
        "id": "Zd3KN8Rj-AF8"
      },
      "outputs": [],
      "source": [
        "# We start by implementing Residual Bottleneck Block with Expansion Factor = N as defined in Mobilenet-V2 paper\n",
        "# with Squeeze and Excitation Block and Stochastic Depth. \n",
        "# The process of implementation: residual -> exapnd -> depthwise conv \n",
        "# -> squeeze and excitation -> pointwise conv -> skip connection\n",
        "\n",
        "class MBConvN(nn.Module):\n",
        "    def __init__(self, n_in, n_out, kernel_size = 3, \n",
        "                 stride = 1, expansion_factor = 6,\n",
        "                 reduction = 4, # Squeeze and Excitation Block\n",
        "                 survival_prob = 0.8 # Stochastic Depth\n",
        "                ):\n",
        "        \n",
        "        super(MBConvN, self).__init__()\n",
        "        #######################\n",
        "        # TODO: your code here#\n",
        "        #######################\n",
        "        self.skip_connection = (stride == 1 and n_in == n_out) \n",
        "        intermediate_channels = int(n_in * expansion_factor)\n",
        "        padding = (kernel_size - 1)//2\n",
        "        reduced_dim = int(n_in//reduction)\n",
        "        \n",
        "        self.expand = nn.Identity() if (expansion_factor == 1) else ConvBnAct(n_in, intermediate_channels, kernel_size = 1)\n",
        "        self.depthwise_conv = ConvBnAct(intermediate_channels, intermediate_channels,\n",
        "                                        kernel_size = kernel_size, stride = stride, \n",
        "                                        padding = padding, groups = intermediate_channels\n",
        "                                       )\n",
        "        self.se = SqueezeExcitation(intermediate_channels, reduced_dim = reduced_dim)\n",
        "        self.pointwise_conv = ConvBnAct(intermediate_channels, n_out, \n",
        "                                        kernel_size = 1, act = False\n",
        "                                       )\n",
        "        self.drop_layers = StochasticDepth(survival_prob = survival_prob)\n",
        "        #######################\n",
        "        # End of your code    #\n",
        "        #######################\n",
        "        \n",
        "    def forward(self, x):\n",
        "        residual = x\n",
        "        #######################\n",
        "        # TODO: your code here#\n",
        "        #######################\n",
        "        x = self.expand(x)\n",
        "        x = self.depthwise_conv(x)\n",
        "        x = self.se(x)\n",
        "        x = self.pointwise_conv(x)\n",
        "        \n",
        "        if self.skip_connection:\n",
        "            x = self.drop_layers(x)\n",
        "            x += residual\n",
        "        #######################\n",
        "        # End of your code    #\n",
        "        #######################\n",
        "        return x\n"
      ]
    },
    {
      "cell_type": "code",
      "execution_count": 18,
      "metadata": {
        "id": "f80mmCDV-AF8"
      },
      "outputs": [],
      "source": [
        "# Here comes the acutal implmentation of EfficientNet\n",
        "class EfficientNet(nn.Module):\n",
        "    def __init__(self, width_mult = 1, depth_mult = 1, \n",
        "                dropout_rate = 0.2, num_classes = 1000):\n",
        "        super(EfficientNet, self).__init__()\n",
        "        \n",
        "        last_channel = ceil(1280 * width_mult)\n",
        "        self.features = self._feature_extractor(width_mult, depth_mult, last_channel)\n",
        "        self.avgpool = nn.AdaptiveAvgPool2d(1)\n",
        "        self.classifier = nn.Sequential(\n",
        "            nn.Dropout(dropout_rate),\n",
        "            nn.Linear(last_channel, num_classes)\n",
        "        )\n",
        "        \n",
        "    def forward(self, x):\n",
        "        \n",
        "        x = self.features(x)\n",
        "        x = self.avgpool(x)\n",
        "        x = self.classifier(x.view(x.shape[0], -1))\n",
        "        \n",
        "        return x\n",
        "    \n",
        "    def _feature_extractor(self, width_mult, depth_mult, last_channel):\n",
        "        \n",
        "        channels = 4*ceil(int(32*width_mult) / 4)\n",
        "        layers = [ConvBnAct(3, channels, kernel_size = 3, stride = 2, padding = 1)]\n",
        "        in_channels = channels\n",
        "        \n",
        "        # These are from the paper\n",
        "        kernels = [3, 3, 5, 3, 5, 5, 3]\n",
        "        expansions = [1, 6, 6, 6, 6, 6, 6]\n",
        "        num_channels = [16, 24, 40, 80, 112, 192, 320]\n",
        "        num_layers = [1, 2, 2, 3, 3, 4, 1]\n",
        "        strides =[1, 2, 2, 2, 1, 2, 1]\n",
        "        \n",
        "        # Scale channels and num_layers according to width and depth multipliers.\n",
        "        scaled_num_channels = [4*ceil(int(c*width_mult) / 4) for c in num_channels]\n",
        "        scaled_num_layers = [int(d * depth_mult) for d in num_layers]\n",
        "\n",
        "        #######################\n",
        "        # TODO: your code here#\n",
        "        #######################\n",
        "        for i in range(len(scaled_num_channels)):\n",
        "            layers += [MBConvN(in_channels if repeat==0 else scaled_num_channels[i], \n",
        "                            scaled_num_channels[i],\n",
        "                            kernel_size = kernels[i],\n",
        "                            stride = strides[i] if repeat==0 else 1, \n",
        "                            expansion_factor = expansions[i]\n",
        "                            )\n",
        "                    for repeat in range(scaled_num_layers[i])\n",
        "                    ]\n",
        "            in_channels = scaled_num_channels[i]\n",
        "        #######################\n",
        "        # End of your code    #\n",
        "        #######################\n",
        "        \n",
        "        layers.append(ConvBnAct(in_channels, last_channel, kernel_size = 1, stride = 1, padding = 0))\n",
        "    \n",
        "        return nn.Sequential(*layers)"
      ]
    },
    {
      "cell_type": "code",
      "execution_count": 19,
      "metadata": {
        "id": "L54OyLZn-AF9"
      },
      "outputs": [],
      "source": [
        "# Compound scaling factors for efficient-net family.\n",
        "efficient_net_config = {\n",
        "    # tuple of width multiplier, depth multiplier, resolution, and Survival Prob\n",
        "    # from the paper\n",
        "    \"b0\" : (1.0, 1.0, 224, 0.2),\n",
        "    \"b1\" : (1.0, 1.1, 240, 0.2),\n",
        "    \"b2\" : (1.1, 1.2, 260, 0.3),\n",
        "    \"b3\" : (1.2, 1.4, 300, 0.3),\n",
        "    \"b4\" : (1.4, 1.8, 380, 0.4),\n",
        "    \"b5\" : (1.6, 2.2, 456, 0.4),\n",
        "    \"b6\" : (1.8, 2.6, 528, 0.5),\n",
        "    \"b7\" : (2.0, 3.1, 600, 0.5)\n",
        "}"
      ]
    },
    {
      "cell_type": "markdown",
      "metadata": {
        "id": "vdPUGUqm-AF9"
      },
      "source": [
        "Finally we're going to train our implemented model. Follow the code instruction below to train the model. We recommend to use GPU to train the model. "
      ]
    },
    {
      "cell_type": "code",
      "execution_count": 20,
      "metadata": {
        "id": "eNs7Yi15-AF9"
      },
      "outputs": [],
      "source": [
        "def calculate_loss_and_accuracy(model, dataloader, size_of_dataset, criterion):\n",
        "    \n",
        "    # Now set model to validation mode.\n",
        "    running_loss = 0\n",
        "    running_accuracy = 0\n",
        "    \n",
        "    # Processing the Test Loader\n",
        "    for (inputs, labels) in dataloader:\n",
        "        \n",
        "        # Load data to device.\n",
        "        inputs = inputs.to(device)\n",
        "        labels = labels.to(device)\n",
        "        \n",
        "        # Outputs\n",
        "        outputs = model(inputs)\n",
        "        _ , preds = torch.max(outputs, 1)\n",
        "        \n",
        "        # Outputs\n",
        "        outputs = model(inputs)\n",
        "        _ , preds = torch.max(outputs, 1)\n",
        "        \n",
        "        # Loss and Backpropagation.\n",
        "        loss = criterion(outputs, labels)\n",
        "        \n",
        "        # Statistics\n",
        "        running_loss += loss.item()*inputs.size(0)\n",
        "        running_accuracy += torch.sum(preds == labels.data)\n",
        "        \n",
        "    epoch_loss = running_loss/size_of_dataset\n",
        "    epoch_accuracy = running_accuracy/size_of_dataset\n",
        "    \n",
        "    return epoch_loss, epoch_accuracy\n",
        "\n",
        "def train(model, criterion, optimizer, scheduler, num_of_epochs):\n",
        "    \n",
        "    best_model_wts = copy.deepcopy(model.state_dict())\n",
        "    best_acc = 0.0\n",
        "    track_training_loss = []\n",
        "    track_val_loss = []\n",
        "\n",
        "    for epoch in range(num_of_epochs):\n",
        "\n",
        "        print(f'\\nEpoch {epoch + 1}/{num_of_epochs}')\n",
        "        print('-'*30)\n",
        "\n",
        "        model.train() # Setting model to train.\n",
        "        running_loss = 0\n",
        "        running_accuracy = 0\n",
        "\n",
        "        # Processing the Train Loader\n",
        "        for (inputs, labels) in trainloader:\n",
        "\n",
        "            # Load data to device.\n",
        "            #######################\n",
        "            # TODO: your code here#\n",
        "            #######################\n",
        "            inputs = inputs.to(device)\n",
        "            labels = labels.to(device)\n",
        "\n",
        "            optimizer.zero_grad() # zero the parameter gradients\n",
        "            #######################\n",
        "            # End of your code    #\n",
        "            #######################\n",
        "\n",
        "            # Outputs\n",
        "            outputs = model(inputs)\n",
        "            _ , preds = torch.max(outputs, 1)\n",
        "\n",
        "            # Loss and Backpropagation.\n",
        "            #######################\n",
        "            # TODO: your code here#\n",
        "            #######################\n",
        "            loss = criterion(outputs, labels)\n",
        "            loss.backward()\n",
        "            optimizer.step()\n",
        "            #######################\n",
        "            # End of your code    #\n",
        "            #######################\n",
        "            # Statistics\n",
        "            running_loss += loss.item()*inputs.size(0)\n",
        "            running_accuracy += torch.sum(preds == labels.data)\n",
        "        \n",
        "        scheduler.step()\n",
        "        epoch_loss = running_loss/len(trainset)\n",
        "        epoch_accuracy = running_accuracy/len(trainset)\n",
        "        track_training_loss.append(epoch_loss) # Loss Tracking\n",
        "\n",
        "        print(f'Training Loss: {epoch_loss:.4f} Training Acc.: {epoch_accuracy:.4f}')\n",
        "\n",
        "        # Now set model to validation mode.\n",
        "        model.eval()\n",
        "\n",
        "        val_loss, val_accuracy = calculate_loss_and_accuracy(model, valloader, len(val_ds), criterion)\n",
        "        track_val_loss.append(val_loss) \n",
        "        if val_accuracy > best_acc:\n",
        "            print(\"Found better model...\")\n",
        "            print('Updating the model weights....\\n')\n",
        "            print(f'Val Loss: {val_loss:.4f} Val Acc.: {val_accuracy:.4f}\\n')\n",
        "\n",
        "            best_acc = val_accuracy\n",
        "            best_model_wts = copy.deepcopy(model.state_dict())\n",
        "     \n",
        "    model.load_state_dict(best_model_wts) # update model\n",
        "    \n",
        "    return  model"
      ]
    },
    {
      "cell_type": "code",
      "execution_count": 22,
      "metadata": {
        "colab": {
          "base_uri": "https://localhost:8080/"
        },
        "id": "gm6WUbht-AF9",
        "outputId": "7410c2ba-6d1c-4058-f80c-000073825f04"
      },
      "outputs": [
        {
          "output_type": "stream",
          "name": "stdout",
          "text": [
            "\n",
            "Epoch 1/50\n",
            "------------------------------\n",
            "Training Loss: 1.6509 Training Acc.: 0.1814\n",
            "Found better model...\n",
            "Updating the model weights....\n",
            "\n",
            "Val Loss: 1.7720 Val Acc.: 0.3429\n",
            "\n",
            "\n",
            "Epoch 2/50\n",
            "------------------------------\n",
            "Training Loss: 1.3791 Training Acc.: 0.2869\n",
            "Found better model...\n",
            "Updating the model weights....\n",
            "\n",
            "Val Loss: 1.5967 Val Acc.: 0.4022\n",
            "\n",
            "\n",
            "Epoch 3/50\n",
            "------------------------------\n",
            "Training Loss: 1.2389 Training Acc.: 0.3454\n",
            "Found better model...\n",
            "Updating the model weights....\n",
            "\n",
            "Val Loss: 1.4387 Val Acc.: 0.4778\n",
            "\n",
            "\n",
            "Epoch 4/50\n",
            "------------------------------\n",
            "Training Loss: 1.1452 Training Acc.: 0.3822\n",
            "Found better model...\n",
            "Updating the model weights....\n",
            "\n",
            "Val Loss: 1.3563 Val Acc.: 0.5071\n",
            "\n",
            "\n",
            "Epoch 5/50\n",
            "------------------------------\n",
            "Training Loss: 1.0741 Training Acc.: 0.4067\n",
            "Found better model...\n",
            "Updating the model weights....\n",
            "\n",
            "Val Loss: 1.2943 Val Acc.: 0.5342\n",
            "\n",
            "\n",
            "Epoch 6/50\n",
            "------------------------------\n",
            "Training Loss: 1.0210 Training Acc.: 0.4291\n",
            "Found better model...\n",
            "Updating the model weights....\n",
            "\n",
            "Val Loss: 1.2482 Val Acc.: 0.5559\n",
            "\n",
            "\n",
            "Epoch 7/50\n",
            "------------------------------\n",
            "Training Loss: 0.9644 Training Acc.: 0.4517\n",
            "Found better model...\n",
            "Updating the model weights....\n",
            "\n",
            "Val Loss: 1.1979 Val Acc.: 0.5733\n",
            "\n",
            "\n",
            "Epoch 8/50\n",
            "------------------------------\n",
            "Training Loss: 0.9169 Training Acc.: 0.4708\n",
            "Found better model...\n",
            "Updating the model weights....\n",
            "\n",
            "Val Loss: 1.1775 Val Acc.: 0.5833\n",
            "\n",
            "\n",
            "Epoch 9/50\n",
            "------------------------------\n",
            "Training Loss: 0.8800 Training Acc.: 0.4847\n",
            "Found better model...\n",
            "Updating the model weights....\n",
            "\n",
            "Val Loss: 1.1473 Val Acc.: 0.5919\n",
            "\n",
            "\n",
            "Epoch 10/50\n",
            "------------------------------\n",
            "Training Loss: 0.8406 Training Acc.: 0.5007\n",
            "Found better model...\n",
            "Updating the model weights....\n",
            "\n",
            "Val Loss: 1.1153 Val Acc.: 0.6047\n",
            "\n",
            "\n",
            "Epoch 11/50\n",
            "------------------------------\n",
            "Training Loss: 0.8061 Training Acc.: 0.5144\n",
            "Found better model...\n",
            "Updating the model weights....\n",
            "\n",
            "Val Loss: 1.0876 Val Acc.: 0.6127\n",
            "\n",
            "\n",
            "Epoch 12/50\n",
            "------------------------------\n",
            "Training Loss: 0.7712 Training Acc.: 0.5252\n",
            "Found better model...\n",
            "Updating the model weights....\n",
            "\n",
            "Val Loss: 1.0523 Val Acc.: 0.6357\n",
            "\n",
            "\n",
            "Epoch 13/50\n",
            "------------------------------\n",
            "Training Loss: 0.7410 Training Acc.: 0.5363\n",
            "Found better model...\n",
            "Updating the model weights....\n",
            "\n",
            "Val Loss: 1.0132 Val Acc.: 0.6436\n",
            "\n",
            "\n",
            "Epoch 14/50\n",
            "------------------------------\n",
            "Training Loss: 0.7121 Training Acc.: 0.5504\n",
            "Found better model...\n",
            "Updating the model weights....\n",
            "\n",
            "Val Loss: 0.9822 Val Acc.: 0.6561\n",
            "\n",
            "\n",
            "Epoch 15/50\n",
            "------------------------------\n",
            "Training Loss: 0.6815 Training Acc.: 0.5587\n",
            "\n",
            "Epoch 16/50\n",
            "------------------------------\n",
            "Training Loss: 0.6590 Training Acc.: 0.5691\n",
            "Found better model...\n",
            "Updating the model weights....\n",
            "\n",
            "Val Loss: 0.9817 Val Acc.: 0.6614\n",
            "\n",
            "\n",
            "Epoch 17/50\n",
            "------------------------------\n",
            "Training Loss: 0.6330 Training Acc.: 0.5766\n",
            "Found better model...\n",
            "Updating the model weights....\n",
            "\n",
            "Val Loss: 0.9800 Val Acc.: 0.6616\n",
            "\n",
            "\n",
            "Epoch 18/50\n",
            "------------------------------\n",
            "Training Loss: 0.6190 Training Acc.: 0.5825\n",
            "Found better model...\n",
            "Updating the model weights....\n",
            "\n",
            "Val Loss: 0.9384 Val Acc.: 0.6729\n",
            "\n",
            "\n",
            "Epoch 19/50\n",
            "------------------------------\n",
            "Training Loss: 0.5937 Training Acc.: 0.5920\n",
            "Found better model...\n",
            "Updating the model weights....\n",
            "\n",
            "Val Loss: 0.9499 Val Acc.: 0.6778\n",
            "\n",
            "\n",
            "Epoch 20/50\n",
            "------------------------------\n",
            "Training Loss: 0.5725 Training Acc.: 0.5979\n",
            "\n",
            "Epoch 21/50\n",
            "------------------------------\n",
            "Training Loss: 0.5516 Training Acc.: 0.6064\n",
            "\n",
            "Epoch 22/50\n",
            "------------------------------\n",
            "Training Loss: 0.5381 Training Acc.: 0.6108\n",
            "Found better model...\n",
            "Updating the model weights....\n",
            "\n",
            "Val Loss: 0.9366 Val Acc.: 0.6834\n",
            "\n",
            "\n",
            "Epoch 23/50\n",
            "------------------------------\n",
            "Training Loss: 0.5200 Training Acc.: 0.6155\n",
            "Found better model...\n",
            "Updating the model weights....\n",
            "\n",
            "Val Loss: 0.9322 Val Acc.: 0.6874\n",
            "\n",
            "\n",
            "Epoch 24/50\n",
            "------------------------------\n",
            "Training Loss: 0.4962 Training Acc.: 0.6267\n",
            "\n",
            "Epoch 25/50\n",
            "------------------------------\n",
            "Training Loss: 0.4816 Training Acc.: 0.6307\n",
            "Found better model...\n",
            "Updating the model weights....\n",
            "\n",
            "Val Loss: 0.9259 Val Acc.: 0.6896\n",
            "\n",
            "\n",
            "Epoch 26/50\n",
            "------------------------------\n",
            "Training Loss: 0.4662 Training Acc.: 0.6371\n",
            "Found better model...\n",
            "Updating the model weights....\n",
            "\n",
            "Val Loss: 0.9369 Val Acc.: 0.6928\n",
            "\n",
            "\n",
            "Epoch 27/50\n",
            "------------------------------\n",
            "Training Loss: 0.4497 Training Acc.: 0.6415\n",
            "\n",
            "Epoch 28/50\n",
            "------------------------------\n",
            "Training Loss: 0.4442 Training Acc.: 0.6436\n",
            "\n",
            "Epoch 29/50\n",
            "------------------------------\n",
            "Training Loss: 0.4199 Training Acc.: 0.6531\n",
            "Found better model...\n",
            "Updating the model weights....\n",
            "\n",
            "Val Loss: 0.9409 Val Acc.: 0.6934\n",
            "\n",
            "\n",
            "Epoch 30/50\n",
            "------------------------------\n",
            "Training Loss: 0.4007 Training Acc.: 0.6588\n",
            "Found better model...\n",
            "Updating the model weights....\n",
            "\n",
            "Val Loss: 0.9579 Val Acc.: 0.6993\n",
            "\n",
            "\n",
            "Epoch 31/50\n",
            "------------------------------\n",
            "Training Loss: 0.3881 Training Acc.: 0.6614\n",
            "Found better model...\n",
            "Updating the model weights....\n",
            "\n",
            "Val Loss: 0.9558 Val Acc.: 0.7010\n",
            "\n",
            "\n",
            "Epoch 32/50\n",
            "------------------------------\n",
            "Training Loss: 0.3754 Training Acc.: 0.6671\n",
            "\n",
            "Epoch 33/50\n",
            "------------------------------\n",
            "Training Loss: 0.3619 Training Acc.: 0.6713\n",
            "\n",
            "Epoch 34/50\n",
            "------------------------------\n",
            "Training Loss: 0.3515 Training Acc.: 0.6759\n",
            "Found better model...\n",
            "Updating the model weights....\n",
            "\n",
            "Val Loss: 0.9815 Val Acc.: 0.7013\n",
            "\n",
            "\n",
            "Epoch 35/50\n",
            "------------------------------\n",
            "Training Loss: 0.3381 Training Acc.: 0.6808\n",
            "\n",
            "Epoch 36/50\n",
            "------------------------------\n",
            "Training Loss: 0.3284 Training Acc.: 0.6834\n",
            "Found better model...\n",
            "Updating the model weights....\n",
            "\n",
            "Val Loss: 0.9804 Val Acc.: 0.7055\n",
            "\n",
            "\n",
            "Epoch 37/50\n",
            "------------------------------\n",
            "Training Loss: 0.3096 Training Acc.: 0.6902\n",
            "\n",
            "Epoch 38/50\n",
            "------------------------------\n",
            "Training Loss: 0.3004 Training Acc.: 0.6939\n",
            "Found better model...\n",
            "Updating the model weights....\n",
            "\n",
            "Val Loss: 1.0008 Val Acc.: 0.7056\n",
            "\n",
            "\n",
            "Epoch 39/50\n",
            "------------------------------\n",
            "Training Loss: 0.2922 Training Acc.: 0.6969\n",
            "Found better model...\n",
            "Updating the model weights....\n",
            "\n",
            "Val Loss: 1.0071 Val Acc.: 0.7066\n",
            "\n",
            "\n",
            "Epoch 40/50\n",
            "------------------------------\n",
            "Training Loss: 0.2783 Training Acc.: 0.7014\n",
            "\n",
            "Epoch 41/50\n",
            "------------------------------\n",
            "Training Loss: 0.2737 Training Acc.: 0.7034\n",
            "\n",
            "Epoch 42/50\n",
            "------------------------------\n",
            "Training Loss: 0.2581 Training Acc.: 0.7081\n",
            "Found better model...\n",
            "Updating the model weights....\n",
            "\n",
            "Val Loss: 1.0616 Val Acc.: 0.7081\n",
            "\n",
            "\n",
            "Epoch 43/50\n",
            "------------------------------\n",
            "Training Loss: 0.2518 Training Acc.: 0.7099\n",
            "\n",
            "Epoch 44/50\n",
            "------------------------------\n",
            "Training Loss: 0.2407 Training Acc.: 0.7146\n",
            "Found better model...\n",
            "Updating the model weights....\n",
            "\n",
            "Val Loss: 1.0967 Val Acc.: 0.7106\n",
            "\n",
            "\n",
            "Epoch 45/50\n",
            "------------------------------\n",
            "Training Loss: 0.2339 Training Acc.: 0.7173\n",
            "\n",
            "Epoch 46/50\n",
            "------------------------------\n",
            "Training Loss: 0.2241 Training Acc.: 0.7201\n",
            "\n",
            "Epoch 47/50\n",
            "------------------------------\n",
            "Training Loss: 0.2229 Training Acc.: 0.7207\n",
            "\n",
            "Epoch 48/50\n",
            "------------------------------\n",
            "Training Loss: 0.2112 Training Acc.: 0.7247\n",
            "\n",
            "Epoch 49/50\n",
            "------------------------------\n",
            "Training Loss: 0.1977 Training Acc.: 0.7310\n",
            "\n",
            "Epoch 50/50\n",
            "------------------------------\n",
            "Training Loss: 0.2079 Training Acc.: 0.7260\n"
          ]
        }
      ],
      "source": [
        "device = torch.device('cuda')\n",
        "\n",
        "NUM_OF_CLASSES = 10\n",
        "BATCH_SIZE = 32\n",
        "NUM_OF_EPOCHS = 100\n",
        "\n",
        "# Initialize Efficientnet model\n",
        "version = 'b0'\n",
        "width_mult, depth_mult, res, dropout_rate = efficient_net_config[version]\n",
        "model = EfficientNet(width_mult, depth_mult, dropout_rate, num_classes = NUM_OF_CLASSES)\n",
        "model = model.to(device) # Load model to device.\n",
        "\n",
        "# Criterion.\n",
        "criterion = nn.CrossEntropyLoss()\n",
        "optimizer = optim.AdamW(model.parameters(), lr=1e-6, weight_decay=1e-2)\n",
        "\n",
        "\n",
        "exp_lr_scheduler = optim.lr_scheduler.OneCycleLR(optimizer, max_lr=1e-2,\n",
        "                                             steps_per_epoch=len(trainloader), epochs=NUM_OF_EPOCHS)\n",
        "\n",
        "# Training\n",
        "best_model = train(model = model,\n",
        "                   criterion = criterion,\n",
        "                   optimizer = optimizer,\n",
        "                   scheduler = exp_lr_scheduler,\n",
        "                   num_of_epochs = NUM_OF_EPOCHS\n",
        "                  )"
      ]
    },
    {
      "cell_type": "markdown",
      "metadata": {
        "id": "yFCsCfPq-AF9"
      },
      "source": [
        "Question: What is the best accuracy you can get? What is the best accuracy you can get with the same number of parameters as the EfficientNet-B0 model? Try to use different models and find the one with the best validation accuracy."
      ]
    },
    {
      "cell_type": "markdown",
      "metadata": {
        "id": "4Kalf4TW-AF9"
      },
      "source": [
        "## References\n",
        "\n",
        "[1] Mingxing Tan, Quoc V. Le. EfficientNet: Rethinking Model Scaling for Convolutional Neural Networks. https://arxiv.org/abs/1905.11946"
      ]
    }
  ],
  "metadata": {
    "accelerator": "GPU",
    "colab": {
      "provenance": []
    },
    "gpuClass": "standard",
    "kernelspec": {
      "display_name": "Python 3",
      "name": "python3"
    },
    "language_info": {
      "codemirror_mode": {
        "name": "ipython",
        "version": 3
      },
      "file_extension": ".py",
      "mimetype": "text/x-python",
      "name": "python",
      "nbconvert_exporter": "python",
      "pygments_lexer": "ipython3",
      "version": "3.8.16"
    }
  },
  "nbformat": 4,
  "nbformat_minor": 0
}